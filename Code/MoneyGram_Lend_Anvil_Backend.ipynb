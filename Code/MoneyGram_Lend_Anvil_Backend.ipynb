{
  "nbformat": 4,
  "nbformat_minor": 0,
  "metadata": {
    "colab": {
      "provenance": []
    },
    "kernelspec": {
      "name": "python3",
      "display_name": "Python 3"
    },
    "language_info": {
      "name": "python"
    }
  },
  "cells": [
    {
      "cell_type": "markdown",
      "source": [
        "#MoneyGram Lend v1.2\n",
        "\n",
        "The App is available [here](https://moneygram-lend.anvil.app)"
      ],
      "metadata": {
        "id": "Bdy2qqs4E6tn"
      }
    },
    {
      "cell_type": "code",
      "source": [
        "# Install Uplink to run web app\n",
        "!pip install anvil-uplink\n",
        "#Install Yahoo Finance for Currency Conversion\n",
        "!pip install yahoo_fin"
      ],
      "metadata": {
        "colab": {
          "base_uri": "https://localhost:8080/",
          "height": 817
        },
        "id": "J8jVkkR7gs7S",
        "outputId": "8b63aeed-aae1-43d3-840a-4910a7590cb7"
      },
      "execution_count": 1,
      "outputs": [
        {
          "output_type": "stream",
          "name": "stdout",
          "text": [
            "Looking in indexes: https://pypi.org/simple, https://us-python.pkg.dev/colab-wheels/public/simple/\n",
            "Requirement already satisfied: anvil-uplink in /usr/local/lib/python3.7/dist-packages (0.4.0)\n",
            "Requirement already satisfied: future in /usr/local/lib/python3.7/dist-packages (from anvil-uplink) (0.16.0)\n",
            "Collecting argparse\n",
            "  Using cached argparse-1.4.0-py2.py3-none-any.whl (23 kB)\n",
            "Requirement already satisfied: ws4py in /usr/local/lib/python3.7/dist-packages (from anvil-uplink) (0.5.1)\n",
            "Requirement already satisfied: six in /usr/local/lib/python3.7/dist-packages (from anvil-uplink) (1.15.0)\n",
            "Installing collected packages: argparse\n",
            "Successfully installed argparse-1.4.0\n"
          ]
        },
        {
          "output_type": "display_data",
          "data": {
            "application/vnd.colab-display-data+json": {
              "pip_warning": {
                "packages": [
                  "argparse"
                ]
              }
            }
          },
          "metadata": {}
        },
        {
          "output_type": "stream",
          "name": "stdout",
          "text": [
            "Looking in indexes: https://pypi.org/simple, https://us-python.pkg.dev/colab-wheels/public/simple/\n",
            "Requirement already satisfied: yahoo_fin in /usr/local/lib/python3.7/dist-packages (0.8.9.1)\n",
            "Requirement already satisfied: feedparser in /usr/local/lib/python3.7/dist-packages (from yahoo_fin) (6.0.10)\n",
            "Requirement already satisfied: requests-html in /usr/local/lib/python3.7/dist-packages (from yahoo_fin) (0.10.0)\n",
            "Requirement already satisfied: requests in /usr/local/lib/python3.7/dist-packages (from yahoo_fin) (2.23.0)\n",
            "Requirement already satisfied: pandas in /usr/local/lib/python3.7/dist-packages (from yahoo_fin) (1.3.5)\n",
            "Requirement already satisfied: sgmllib3k in /usr/local/lib/python3.7/dist-packages (from feedparser->yahoo_fin) (1.0.0)\n",
            "Requirement already satisfied: numpy>=1.17.3 in /usr/local/lib/python3.7/dist-packages (from pandas->yahoo_fin) (1.21.6)\n",
            "Requirement already satisfied: python-dateutil>=2.7.3 in /usr/local/lib/python3.7/dist-packages (from pandas->yahoo_fin) (2.8.2)\n",
            "Requirement already satisfied: pytz>=2017.3 in /usr/local/lib/python3.7/dist-packages (from pandas->yahoo_fin) (2022.4)\n",
            "Requirement already satisfied: six>=1.5 in /usr/local/lib/python3.7/dist-packages (from python-dateutil>=2.7.3->pandas->yahoo_fin) (1.15.0)\n",
            "Requirement already satisfied: chardet<4,>=3.0.2 in /usr/local/lib/python3.7/dist-packages (from requests->yahoo_fin) (3.0.4)\n",
            "Requirement already satisfied: certifi>=2017.4.17 in /usr/local/lib/python3.7/dist-packages (from requests->yahoo_fin) (2022.9.24)\n",
            "Requirement already satisfied: idna<3,>=2.5 in /usr/local/lib/python3.7/dist-packages (from requests->yahoo_fin) (2.10)\n",
            "Requirement already satisfied: urllib3!=1.25.0,!=1.25.1,<1.26,>=1.21.1 in /usr/local/lib/python3.7/dist-packages (from requests->yahoo_fin) (1.25.11)\n",
            "Requirement already satisfied: w3lib in /usr/local/lib/python3.7/dist-packages (from requests-html->yahoo_fin) (2.0.1)\n",
            "Requirement already satisfied: fake-useragent in /usr/local/lib/python3.7/dist-packages (from requests-html->yahoo_fin) (0.1.11)\n",
            "Requirement already satisfied: pyppeteer>=0.0.14 in /usr/local/lib/python3.7/dist-packages (from requests-html->yahoo_fin) (1.0.2)\n",
            "Requirement already satisfied: bs4 in /usr/local/lib/python3.7/dist-packages (from requests-html->yahoo_fin) (0.0.1)\n",
            "Requirement already satisfied: parse in /usr/local/lib/python3.7/dist-packages (from requests-html->yahoo_fin) (1.19.0)\n",
            "Requirement already satisfied: pyquery in /usr/local/lib/python3.7/dist-packages (from requests-html->yahoo_fin) (1.4.3)\n",
            "Requirement already satisfied: appdirs<2.0.0,>=1.4.3 in /usr/local/lib/python3.7/dist-packages (from pyppeteer>=0.0.14->requests-html->yahoo_fin) (1.4.4)\n",
            "Requirement already satisfied: websockets<11.0,>=10.0 in /usr/local/lib/python3.7/dist-packages (from pyppeteer>=0.0.14->requests-html->yahoo_fin) (10.3)\n",
            "Requirement already satisfied: importlib-metadata>=1.4 in /usr/local/lib/python3.7/dist-packages (from pyppeteer>=0.0.14->requests-html->yahoo_fin) (5.0.0)\n",
            "Requirement already satisfied: pyee<9.0.0,>=8.1.0 in /usr/local/lib/python3.7/dist-packages (from pyppeteer>=0.0.14->requests-html->yahoo_fin) (8.2.2)\n",
            "Requirement already satisfied: tqdm<5.0.0,>=4.42.1 in /usr/local/lib/python3.7/dist-packages (from pyppeteer>=0.0.14->requests-html->yahoo_fin) (4.64.1)\n",
            "Requirement already satisfied: typing-extensions>=3.6.4 in /usr/local/lib/python3.7/dist-packages (from importlib-metadata>=1.4->pyppeteer>=0.0.14->requests-html->yahoo_fin) (4.1.1)\n",
            "Requirement already satisfied: zipp>=0.5 in /usr/local/lib/python3.7/dist-packages (from importlib-metadata>=1.4->pyppeteer>=0.0.14->requests-html->yahoo_fin) (3.8.1)\n",
            "Requirement already satisfied: beautifulsoup4 in /usr/local/lib/python3.7/dist-packages (from bs4->requests-html->yahoo_fin) (4.6.3)\n",
            "Requirement already satisfied: cssselect>0.7.9 in /usr/local/lib/python3.7/dist-packages (from pyquery->requests-html->yahoo_fin) (1.1.0)\n",
            "Requirement already satisfied: lxml>=2.1 in /usr/local/lib/python3.7/dist-packages (from pyquery->requests-html->yahoo_fin) (4.9.1)\n"
          ]
        }
      ]
    },
    {
      "cell_type": "markdown",
      "source": [
        "## Import Dependencies"
      ],
      "metadata": {
        "id": "TKDuOUShhrd6"
      }
    },
    {
      "cell_type": "code",
      "execution_count": 2,
      "metadata": {
        "id": "yNo-lLhbcIgw"
      },
      "outputs": [],
      "source": [
        "\n",
        "# import pickle\n",
        "import pandas as pd\n",
        "\n",
        "#Server Requirements\n",
        "from google.colab import drive\n",
        "import anvil.server\n",
        "\n",
        "#Currency Convert Dependencies\n",
        "import yahoo_fin.stock_info as si\n",
        "from datetime import datetime, timedelta\n",
        "\n",
        "# import StandardSclaer and OneHotEncoder\n",
        "from sklearn.preprocessing import StandardScaler,OneHotEncoder\n",
        "\n",
        "# Import the train_test_learn module\n",
        "from sklearn.model_selection import train_test_split\n",
        "\n",
        "# Import Adaboost library\n",
        "from sklearn.ensemble import AdaBoostClassifier"
      ]
    },
    {
      "cell_type": "markdown",
      "source": [
        "## Process The Data"
      ],
      "metadata": {
        "id": "3gyIIsSXhlso"
      }
    },
    {
      "cell_type": "code",
      "source": [
        "# Import Credit Risk information to Google Colab\n",
        "url = 'https://raw.githubusercontent.com/DIsaacman/Dream-Team/dataset/Resources/credit_risk_dataset.csv'\n",
        "\n",
        "# Read CSV\n",
        "df = pd.read_csv(url)\n",
        "\n",
        "# # Review the DataFrame\n",
        "# df.head()\n",
        "\n",
        "# drop the columns we don't want to use in our models\n",
        "consolidated_df = df.drop(columns=[\n",
        "       'person_emp_length', 'loan_intent', 'loan_grade',\n",
        "       'loan_int_rate', 'loan_percent_income',\n",
        "       'cb_person_default_on_file', 'cb_person_cred_hist_length'])\n",
        "\n",
        "# Create a list of categorical variables \n",
        "categorical_variables = list(consolidated_df.dtypes[consolidated_df.dtypes==\"object\"].index)\n",
        "\n",
        "# # Display the categorical variables list\n",
        "# categorical_variables"
      ],
      "metadata": {
        "id": "xwqfCN-Yg6yY"
      },
      "execution_count": 3,
      "outputs": []
    },
    {
      "cell_type": "markdown",
      "source": [
        "## Perform the Machine-Learning Modelling Process (AdaBoost)"
      ],
      "metadata": {
        "id": "S8VY5kHRhxzy"
      }
    },
    {
      "cell_type": "code",
      "source": [
        "# Create a OneHotEncoder instance\n",
        "enc = OneHotEncoder(sparse=False)\n",
        "\n",
        "# fit and transform the categorial variable\n",
        "encoded_data = enc.fit_transform(consolidated_df[categorical_variables])\n",
        "\n",
        "# Create a DataFrame with the encoded variables\n",
        "encoded_df = pd.DataFrame(\n",
        "    encoded_data,\n",
        "columns=enc.get_feature_names_out(categorical_variables))\n",
        "\n",
        "# create a new df that does not include those columns we converted with one_hot_encoder (all numerical variables from original dataset)\n",
        "numerical_variables_df = consolidated_df.drop(columns=categorical_variables)\n",
        "\n",
        "# Add the numerical variables from the original DataFrame to the one-hot encoding DataFrame\n",
        "encoded_df = pd.concat([encoded_df, numerical_variables_df], axis=1)\n",
        "\n",
        "# Review the Dataframe\n",
        "encoded_df.head()\n",
        "\n",
        "# Separate the data into features and target\n",
        "# Define feature set\n",
        "y = encoded_df[\"loan_status\"]\n",
        "\n",
        "# Define target set\n",
        "X = encoded_df.drop(columns=\"loan_status\")\n",
        "\n",
        "# Split the data using train_test_split\n",
        "X_train, X_test, y_train, y_test = train_test_split(X, y, random_state=1)\n",
        "\n",
        "# Create a StandardScaler instance\n",
        "scaler = StandardScaler()\n",
        "\n",
        "# Fit the scaler to the features training dataset\n",
        "X_scaler = scaler.fit(X_train)\n",
        "\n",
        "# Fit the scaler to the features training dataset\n",
        "X_train_scaled = X_scaler.transform(X_train)\n",
        "X_test_scaled = X_scaler.transform(X_test)\n",
        "\n",
        "# Create adaboost classifer object\n",
        "abc = AdaBoostClassifier(n_estimators=100,\n",
        "                         learning_rate=1)\n",
        "\n",
        "# Train Adaboost Classifer\n",
        "abc_model = abc.fit(X_train_scaled, y_train)\n"
      ],
      "metadata": {
        "id": "xIIPlZWOhwtZ"
      },
      "execution_count": 4,
      "outputs": []
    },
    {
      "cell_type": "markdown",
      "source": [
        "## Currency Conversion Logic"
      ],
      "metadata": {
        "id": "XGUqc68Tiyfv"
      }
    },
    {
      "cell_type": "code",
      "source": [
        "#Connect to Anvil Server \n",
        "anvil.server.connect(\"VZCQ27KKQZFQ4LACSW6MW2SI-RHNXEOV2BAZECHG4\")"
      ],
      "metadata": {
        "colab": {
          "base_uri": "https://localhost:8080/"
        },
        "id": "fCX2or9ag39v",
        "outputId": "95980197-8fe0-4a01-9e97-3327c8cce9fb"
      },
      "execution_count": 5,
      "outputs": [
        {
          "output_type": "stream",
          "name": "stdout",
          "text": [
            "Connecting to wss://anvil.works/uplink\n",
            "Anvil websocket open\n",
            "Connected to \"Default environment\" as SERVER\n"
          ]
        }
      ]
    },
    {
      "cell_type": "code",
      "source": [
        "# Convert Currencies\n",
        "\n",
        "#Call the Anvil Server\n",
        "@anvil.server.callable\n",
        "\n",
        "def convert_currency(amount, buy, sell):\n",
        "    # construct the currency pair symbol\n",
        "    symbol = f\"{buy}{sell}=X\"\n",
        "    # extract minute data of the recent 2 days\n",
        "    latest_data = si.get_data(symbol, interval=\"1m\", start_date=datetime.now() - timedelta(days=2))\n",
        "    # get the latest datetime\n",
        "    last_updated_datetime = latest_data.index[-1].to_pydatetime()\n",
        "    # get the latest price\n",
        "    latest_price = latest_data.iloc[-1].close\n",
        "    # return the latest datetime with the converted amount\n",
        "    print(f\"Yahoo Finance USD to AUD Conversione ($ {latest_price:.3f}) Price last updated {last_updated_datetime}\")\n",
        "    rate = amount * latest_price\n",
        "    return  rate\n",
        "\n",
        "# # Test: Get AUD -USD Conversion Rate\n",
        "# aud_convert = convert_currency(1000,\"USD\",\"EUR\")"
      ],
      "metadata": {
        "id": "9uabheIJ7rP0"
      },
      "execution_count": 6,
      "outputs": []
    },
    {
      "cell_type": "markdown",
      "source": [
        "# ML Logic"
      ],
      "metadata": {
        "id": "iJaIoLtDjRAg"
      }
    },
    {
      "cell_type": "code",
      "source": [
        "#Call the Anvil Server\n",
        "@anvil.server.callable\n",
        "\n",
        "#Predict Loan Function\n",
        "def predict_loan(home, age, income, amount):\n",
        "\n",
        "  if amount > income:\n",
        "    return \"Sorry you cannot borrow more than your income\"\n",
        "    \n",
        "  #Format home data\n",
        "  person_home_ownership_MORTGAGE = 0\n",
        "  person_home_ownership_OTHER = 0\n",
        "  person_home_ownership_OWN = 0\n",
        "  person_home_ownership_RENT = 0\n",
        "\n",
        "  #Conditional \n",
        "  if home == \"mortgage\":\n",
        "    person_home_ownership_MORTGAGE = 1\n",
        "\n",
        "  if home == \"other\":\n",
        "    person_home_ownership_OTHER = 1\n",
        "\n",
        "  if home == \"own\":\n",
        "    person_home_ownership_OWN = 1\n",
        "\n",
        "  if home == \"rent\":\n",
        "    person_home_ownership_RENT = 1\n",
        "\n",
        "  # User Input Scaling\n",
        "\n",
        "  user_input = [person_home_ownership_MORTGAGE, person_home_ownership_OTHER, person_home_ownership_OWN, person_home_ownership_RENT, age, income, amount]\n",
        "  user_input = X_scaler.transform([user_input])\n",
        "\n",
        "  #Call The ML model and return a Sigmoid Classification\n",
        "  classification = abc_model.predict(user_input)\n",
        "\n",
        "  #Variable Rate based on customer risk \n",
        "  #If non risky then interest is 3%\n",
        "  if classification == 0:\n",
        "    amount = amount * 1.03\n",
        "    response = f\"Your loan will be {amount:,.2f}\"\n",
        "    \n",
        "  #If risky then interest is 4% with initial deposit\n",
        "  if classification == 1:\n",
        "    deposit = amount * 0.3\n",
        "    amount = amount * 1.04\n",
        "    response = f\"Your loan will be ${amount:,.2f} and you will need to make an initial deposit of ${deposit:,.2f}\"\n",
        "\n",
        "  #Return The Data\n",
        "  return response"
      ],
      "metadata": {
        "id": "PJfrVKQqv7xg"
      },
      "execution_count": 7,
      "outputs": []
    },
    {
      "cell_type": "code",
      "source": [
        "# # #Test Prediction\n",
        "# loaded_model.predict([[1.0,0.0,0.0,0.0,25,9600,5500]])"
      ],
      "metadata": {
        "id": "C36TfjMadRQN"
      },
      "execution_count": 8,
      "outputs": []
    },
    {
      "cell_type": "code",
      "source": [
        "#Keep Colab session running \n",
        "anvil.server.wait_forever()"
      ],
      "metadata": {
        "id": "khcGMb6qrVEO",
        "colab": {
          "base_uri": "https://localhost:8080/"
        },
        "outputId": "15ed375f-d5a8-4bae-8e97-8db5381fcc24"
      },
      "execution_count": null,
      "outputs": [
        {
          "output_type": "stream",
          "name": "stdout",
          "text": [
            "Yahoo Finance USD to AUD Conversione ($ 0.626) Price last updated 2022-10-11 03:10:51\n",
            "Yahoo Finance USD to AUD Conversione ($ 91.248) Price last updated 2022-10-11 03:11:03\n"
          ]
        },
        {
          "output_type": "stream",
          "name": "stderr",
          "text": [
            "/usr/local/lib/python3.7/dist-packages/sklearn/base.py:451: UserWarning: X does not have valid feature names, but StandardScaler was fitted with feature names\n",
            "  \"X does not have valid feature names, but\"\n",
            "/usr/local/lib/python3.7/dist-packages/sklearn/base.py:451: UserWarning: X does not have valid feature names, but StandardScaler was fitted with feature names\n",
            "  \"X does not have valid feature names, but\"\n"
          ]
        },
        {
          "output_type": "stream",
          "name": "stdout",
          "text": [
            "Yahoo Finance USD to AUD Conversione ($ 0.626) Price last updated 2022-10-11 03:51:21\n",
            "Yahoo Finance USD to AUD Conversione ($ 0.866) Price last updated 2022-10-11 03:51:54\n"
          ]
        },
        {
          "output_type": "stream",
          "name": "stderr",
          "text": [
            "/usr/local/lib/python3.7/dist-packages/sklearn/base.py:451: UserWarning: X does not have valid feature names, but StandardScaler was fitted with feature names\n",
            "  \"X does not have valid feature names, but\"\n",
            "/usr/local/lib/python3.7/dist-packages/sklearn/base.py:451: UserWarning: X does not have valid feature names, but StandardScaler was fitted with feature names\n",
            "  \"X does not have valid feature names, but\"\n"
          ]
        }
      ]
    }
  ]
}