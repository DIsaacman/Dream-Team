{
  "nbformat": 4,
  "nbformat_minor": 0,
  "metadata": {
    "colab": {
      "provenance": []
    },
    "kernelspec": {
      "name": "python3",
      "display_name": "Python 3"
    },
    "language_info": {
      "name": "python"
    }
  },
  "cells": [
    {
      "cell_type": "markdown",
      "source": [
        "#MoneyGram Lend v1.2\n",
        "\n",
        "The App is available [here](https://moneygram-lend.anvil.app)"
      ],
      "metadata": {
        "id": "Bdy2qqs4E6tn"
      }
    },
    {
      "cell_type": "code",
      "source": [
        "# Install Uplink to run web app\n",
        "!pip install anvil-uplink"
      ],
      "metadata": {
        "colab": {
          "base_uri": "https://localhost:8080/",
          "height": 259
        },
        "id": "J8jVkkR7gs7S",
        "outputId": "8cb60991-641c-4eee-9166-fd431ccb9f3a"
      },
      "execution_count": 1,
      "outputs": [
        {
          "output_type": "stream",
          "name": "stdout",
          "text": [
            "Looking in indexes: https://pypi.org/simple, https://us-python.pkg.dev/colab-wheels/public/simple/\n",
            "Requirement already satisfied: anvil-uplink in /usr/local/lib/python3.7/dist-packages (0.4.0)\n",
            "Requirement already satisfied: future in /usr/local/lib/python3.7/dist-packages (from anvil-uplink) (0.16.0)\n",
            "Requirement already satisfied: ws4py in /usr/local/lib/python3.7/dist-packages (from anvil-uplink) (0.5.1)\n",
            "Requirement already satisfied: six in /usr/local/lib/python3.7/dist-packages (from anvil-uplink) (1.15.0)\n",
            "Collecting argparse\n",
            "  Using cached argparse-1.4.0-py2.py3-none-any.whl (23 kB)\n",
            "Installing collected packages: argparse\n",
            "Successfully installed argparse-1.4.0\n"
          ]
        },
        {
          "output_type": "display_data",
          "data": {
            "application/vnd.colab-display-data+json": {
              "pip_warning": {
                "packages": [
                  "argparse"
                ]
              }
            }
          },
          "metadata": {}
        }
      ]
    },
    {
      "cell_type": "code",
      "execution_count": 2,
      "metadata": {
        "id": "yNo-lLhbcIgw"
      },
      "outputs": [],
      "source": [
        "#Import Dependencies\n",
        "import pickle\n",
        "from google.colab import drive\n",
        "import anvil.server"
      ]
    },
    {
      "cell_type": "code",
      "source": [
        "#Connect to Anvil Server \n",
        "anvil.server.connect(\"VZCQ27KKQZFQ4LACSW6MW2SI-RHNXEOV2BAZECHG4\")"
      ],
      "metadata": {
        "colab": {
          "base_uri": "https://localhost:8080/"
        },
        "id": "fCX2or9ag39v",
        "outputId": "e0884083-9aa4-4184-c36a-b987ed0ef7b2"
      },
      "execution_count": 3,
      "outputs": [
        {
          "output_type": "stream",
          "name": "stdout",
          "text": [
            "Connecting to wss://anvil.works/uplink\n",
            "Anvil websocket open\n",
            "Connected to \"Default environment\" as SERVER\n"
          ]
        }
      ]
    },
    {
      "cell_type": "code",
      "source": [
        "#Mount The Drive to access saved model\n",
        "drive.mount('/content/gdrive')\n",
        "#Define path to retrieve Pickle File\n",
        "DATA_PATH = \"/content/gdrive/My Drive\"\n",
        "#Define Model name\n",
        "model = \"/finalized_model.sav\""
      ],
      "metadata": {
        "colab": {
          "base_uri": "https://localhost:8080/"
        },
        "id": "sRW2lMkiwdAd",
        "outputId": "9e6da3f5-d9de-49d9-ed0d-b521fd6f00fe"
      },
      "execution_count": 4,
      "outputs": [
        {
          "output_type": "stream",
          "name": "stdout",
          "text": [
            "Drive already mounted at /content/gdrive; to attempt to forcibly remount, call drive.mount(\"/content/gdrive\", force_remount=True).\n"
          ]
        }
      ]
    },
    {
      "cell_type": "code",
      "source": [
        "#Open the Pickle File\n",
        "filename = open(DATA_PATH+ model,'rb')"
      ],
      "metadata": {
        "id": "jSEDf0pTwdlr"
      },
      "execution_count": 5,
      "outputs": []
    },
    {
      "cell_type": "code",
      "source": [
        "# Load the model from Google Drive Disk\n",
        "loaded_model = pickle.load(filename)"
      ],
      "metadata": {
        "id": "oOgT3M-qwh4h"
      },
      "execution_count": 6,
      "outputs": []
    },
    {
      "cell_type": "code",
      "source": [
        "#Call the Anvil Server\n",
        "@anvil.server.callable\n",
        "\n",
        "#Predict Loan Function\n",
        "def predict_loan(home, age, income, amount):\n",
        "\n",
        "  #Format home data\n",
        "  person_home_ownership_MORTGAGE = 0\n",
        "  person_home_ownership_OTHER = 0\n",
        "  person_home_ownership_OWN = 0\n",
        "  person_home_ownership_RENT = 0\n",
        "\n",
        "  #Conditional \n",
        "  if home == \"mortgage\":\n",
        "    person_home_ownership_MORTGAGE = 1\n",
        "\n",
        "  if home == \"other\":\n",
        "    person_home_ownership_OTHER = 1\n",
        "\n",
        "  if home == \"own\":\n",
        "    person_home_ownership_OWN = 1\n",
        "\n",
        "  if home == \"rent\":\n",
        "    person_home_ownership_RENT = 1\n",
        "\n",
        "  #Call The ML model and return a Sigmoid Classification\n",
        "  classification = loaded_model.predict([[person_home_ownership_MORTGAGE, person_home_ownership_OTHER, person_home_ownership_OWN, person_home_ownership_RENT, age, income, amount]])\n",
        "\n",
        "  #Variable Rate based on customer risk \n",
        "  #If non risky then interest is 3%\n",
        "  if classification == 0:\n",
        "    response = f\"Your loan will be {amount * 1.03}\"\n",
        "    \n",
        "  #If risky then interest is 4% with initial deposit\n",
        "  if classification == 1:\n",
        "    response = f\"Your loan will be ${amount * 1.04} and you will need to make an initial deposit of ${amount * 0.3}\"\n",
        "\n",
        "  #Return The Data\n",
        "  return response"
      ],
      "metadata": {
        "id": "PJfrVKQqv7xg"
      },
      "execution_count": 12,
      "outputs": []
    },
    {
      "cell_type": "code",
      "source": [
        "# #Test Prediction\n",
        "# loaded_model.predict([[1.0,0.0,0.0,0.0,25,9600,5500]])"
      ],
      "metadata": {
        "id": "C36TfjMadRQN"
      },
      "execution_count": 8,
      "outputs": []
    },
    {
      "cell_type": "code",
      "source": [
        "#Keep Colab session running \n",
        "anvil.server.wait_forever()"
      ],
      "metadata": {
        "colab": {
          "base_uri": "https://localhost:8080/",
          "height": 269
        },
        "id": "khcGMb6qrVEO",
        "outputId": "6c08069e-41a3-4982-97a3-f8b839dc65ae"
      },
      "execution_count": 9,
      "outputs": [
        {
          "output_type": "error",
          "ename": "KeyboardInterrupt",
          "evalue": "ignored",
          "traceback": [
            "\u001b[0;31m---------------------------------------------------------------------------\u001b[0m",
            "\u001b[0;31mKeyboardInterrupt\u001b[0m                         Traceback (most recent call last)",
            "\u001b[0;32m<ipython-input-9-5ca5a98b27c9>\u001b[0m in \u001b[0;36m<module>\u001b[0;34m\u001b[0m\n\u001b[1;32m      1\u001b[0m \u001b[0;31m#Keep Colab session running\u001b[0m\u001b[0;34m\u001b[0m\u001b[0;34m\u001b[0m\u001b[0;34m\u001b[0m\u001b[0m\n\u001b[0;32m----> 2\u001b[0;31m \u001b[0manvil\u001b[0m\u001b[0;34m.\u001b[0m\u001b[0mserver\u001b[0m\u001b[0;34m.\u001b[0m\u001b[0mwait_forever\u001b[0m\u001b[0;34m(\u001b[0m\u001b[0;34m)\u001b[0m\u001b[0;34m\u001b[0m\u001b[0;34m\u001b[0m\u001b[0m\n\u001b[0m",
            "\u001b[0;32m/usr/local/lib/python3.7/dist-packages/anvil/server.py\u001b[0m in \u001b[0;36mwait_forever\u001b[0;34m()\u001b[0m\n\u001b[1;32m    430\u001b[0m     \u001b[0m_get_connection\u001b[0m\u001b[0;34m(\u001b[0m\u001b[0;34m)\u001b[0m\u001b[0;34m\u001b[0m\u001b[0;34m\u001b[0m\u001b[0m\n\u001b[1;32m    431\u001b[0m     \u001b[0;32mwhile\u001b[0m \u001b[0;32mTrue\u001b[0m\u001b[0;34m:\u001b[0m\u001b[0;34m\u001b[0m\u001b[0;34m\u001b[0m\u001b[0m\n\u001b[0;32m--> 432\u001b[0;31m         \u001b[0mtime\u001b[0m\u001b[0;34m.\u001b[0m\u001b[0msleep\u001b[0m\u001b[0;34m(\u001b[0m\u001b[0;36m1\u001b[0m\u001b[0;34m)\u001b[0m\u001b[0;34m\u001b[0m\u001b[0;34m\u001b[0m\u001b[0m\n\u001b[0m",
            "\u001b[0;31mKeyboardInterrupt\u001b[0m: "
          ]
        }
      ]
    }
  ]
}